{
 "cells": [
  {
   "cell_type": "markdown",
   "metadata": {},
   "source": [
    "## Linked Lists\n",
    "A linked list is a data structure consisting of *nodes*, where each node has a *value* and a *link* to the next node.\n",
    "\n",
    "- Advantage: memory can be allocated dynamically. A linked list can grow.\n",
    "- Disadvantage: lookup, add, remove element are all O(N)."
   ]
  },
  {
   "cell_type": "code",
   "execution_count": 52,
   "metadata": {},
   "outputs": [],
   "source": [
    "class Node:\n",
    "    # nodes are the fundamental elements of linked lists (LL)\n",
    "    # each node has a value and a link \"next\" to the linked node\n",
    "    def __init__(self,val):\n",
    "        # initialize node as linked to None\n",
    "        self.val = val\n",
    "        self.next = None\n",
    "        \n",
    "    def traverse(self):\n",
    "        # traverse linked list\n",
    "        node=self\n",
    "        trav = []\n",
    "        while node:\n",
    "            trav.append(node.val)\n",
    "            node=node.next\n",
    "        return trav\n",
    "        \n",
    "    def has_dups(self): \n",
    "        #check if linked list has dups\n",
    "        node=self\n",
    "        seen_values=set()\n",
    "        while node:\n",
    "            if node.val not in seen_values:\n",
    "                seen_values.add(node.val)\n",
    "            else:\n",
    "                return True\n",
    "            node=node.next\n",
    "        return False\n",
    "    \n",
    "    def remove_dups(self): \n",
    "        # remove dups from LL\n",
    "        node=self\n",
    "        seen_values=set()\n",
    "        seen_values.add(node.val)\n",
    "        while node.next:\n",
    "            if node.next.val not in seen_values:\n",
    "                seen_values.add(node.next.val)\n",
    "                node=node.next\n",
    "            else:\n",
    "                node.next=node.next.next\n",
    "    \n",
    "    def return_kth_last(self, k):\n",
    "        # return kth last element by moving a k-sized \"window\" through the LL\n",
    "        left = self\n",
    "        right = self\n",
    "        for _ in range(k):\n",
    "            if not right.next:\n",
    "                print \"error: k larger than lenght of LL\"\n",
    "                return -1\n",
    "            else:\n",
    "                right = right.next\n",
    "        while right:\n",
    "            left = left.next\n",
    "            right = right.next\n",
    "        return left\n",
    "    \n",
    "    def has_loop(self): \n",
    "        # check if LL has loop by moving a fast and slow runner through at the same time\n",
    "        node_slow = self\n",
    "        node_fast = self.next\n",
    "        while node_slow and node_fast and node_fast.next:\n",
    "            if node_slow==node_fast:\n",
    "                return True\n",
    "            node_slow=node_slow.next\n",
    "            node_fast=node_fast.next.next\n",
    "        return False  "
   ]
  },
  {
   "cell_type": "code",
   "execution_count": 53,
   "metadata": {},
   "outputs": [],
   "source": [
    "# construct a linked list with dups\n",
    "root=Node(1)\n",
    "node=root\n",
    "for i in [2,2,3,4,5,6,7,7,8,9,9]:\n",
    "    node.next = Node(i)\n",
    "    node=node.next\n",
    "    \n",
    "# construct a linked list with a loop\n",
    "root_loop=Node(1)\n",
    "node2=Node(2)\n",
    "node3=Node(3)\n",
    "node4=Node(4)\n",
    "root_loop.next=node2\n",
    "node2.next=node3\n",
    "node3.next=node4\n",
    "node4.next=node1"
   ]
  },
  {
   "cell_type": "code",
   "execution_count": 55,
   "metadata": {},
   "outputs": [
    {
     "name": "stdout",
     "output_type": "stream",
     "text": [
      "[1, 2, 3, 4, 5, 6, 7, 8, 9]\n",
      "[1, 2, 3, 4, 5, 6, 7, 8, 9]\n",
      "False\n",
      "True\n",
      "6\n"
     ]
    }
   ],
   "source": [
    "print root.traverse()\n",
    "root.remove_dups()\n",
    "print root.traverse()\n",
    "print root.has_loop()\n",
    "print root_loop.has_loop()\n",
    "print root.return_kth_last(4).val"
   ]
  },
  {
   "cell_type": "code",
   "execution_count": null,
   "metadata": {},
   "outputs": [],
   "source": []
  }
 ],
 "metadata": {
  "kernelspec": {
   "display_name": "Python 3 (ipykernel)",
   "language": "python",
   "name": "python3"
  },
  "language_info": {
   "codemirror_mode": {
    "name": "ipython",
    "version": 3
   },
   "file_extension": ".py",
   "mimetype": "text/x-python",
   "name": "python",
   "nbconvert_exporter": "python",
   "pygments_lexer": "ipython3",
   "version": "3.9.5"
  }
 },
 "nbformat": 4,
 "nbformat_minor": 4
}
