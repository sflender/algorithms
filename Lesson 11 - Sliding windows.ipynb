{
 "cells": [
  {
   "cell_type": "markdown",
   "id": "fa5f4f26-ff9f-4f78-bba1-52eab6864fe9",
   "metadata": {},
   "source": [
    "# Sliding windows\n",
    "Sliding windows is perhaps the most common pattern in string manipulation problems. When the goal is to find the maximum or minimum substring that meets a certain criterion, think sliding windows! \n",
    "\n",
    "How does it work?\n",
    "- start with left and right pointer, both at 0 position\n",
    "- expand the window (r+=1) until you meet the criterion. Once you do:\n",
    "    - contract the window (l+=1) until you don't meet the criterion any more\n",
    "    - update the \"best solution so far\"\n",
    "- continue until the right pointer reaches the end"
   ]
  },
  {
   "cell_type": "markdown",
   "id": "ad4773b5-d1d4-4c67-b892-392617b1f859",
   "metadata": {},
   "source": [
    "## Problem: longest substring without repeating characters\n",
    "\n",
    "https://leetcode.com/problems/longest-substring-without-repeating-characters/"
   ]
  },
  {
   "cell_type": "code",
   "execution_count": 3,
   "id": "06586291-a69c-4abe-9b43-dfab1c460b87",
   "metadata": {},
   "outputs": [],
   "source": [
    "def lengthOfLongestSubstring(s):\n",
    "    '''\n",
    "    sliding window solution, O(N) with O(1) extra space\n",
    "    '''\n",
    "    left, right, res = 0,0,0\n",
    "    first_seen = dict()  # records the index where we first saw a character\n",
    "\n",
    "    while right<len(s):\n",
    "        current_char = s[right]\n",
    "        if current_char not in first_seen.keys() or first_seen[current_char]<left:\n",
    "            res = max(res, 1+right-left)\n",
    "\n",
    "        else: \n",
    "            left = first_seen[current_char]+1\n",
    "\n",
    "        first_seen[current_char]=right\n",
    "        right+=1\n",
    "\n",
    "    return res"
   ]
  },
  {
   "cell_type": "code",
   "execution_count": 4,
   "id": "25d82b82-88e3-4c8a-95aa-7b4a3d98cfe4",
   "metadata": {},
   "outputs": [
    {
     "data": {
      "text/plain": [
       "7"
      ]
     },
     "execution_count": 4,
     "metadata": {},
     "output_type": "execute_result"
    }
   ],
   "source": [
    "lengthOfLongestSubstring('acnlkegneenelgkenkn')"
   ]
  },
  {
   "cell_type": "markdown",
   "id": "55a560c9-8d45-4829-95dc-929ec8627ca3",
   "metadata": {},
   "source": [
    "## Problem: Longest substring with at most k distinct characters\n",
    "\n",
    "https://leetcode.com/problems/longest-substring-with-at-most-k-distinct-characters/"
   ]
  },
  {
   "cell_type": "code",
   "execution_count": 9,
   "id": "133cc9eb-1bdc-4312-aed5-2af8737e07f0",
   "metadata": {},
   "outputs": [],
   "source": [
    "from collections import Counter\n",
    "\n",
    "def lengthOfLongestSubstringKDistinct(s: str, k: int) -> int:\n",
    "    counter = Counter()\n",
    "\n",
    "    l,r = 0,0\n",
    "    k_window = 0  # number of distinct chars inside window spanned by l,r\n",
    "    res = 0\n",
    "\n",
    "    while r<len(s):\n",
    "        if counter[s[r]]==0:\n",
    "            k_window+=1\n",
    "\n",
    "        counter[s[r]]+=1\n",
    "\n",
    "        while k_window>k:\n",
    "            # contract until k_window==k\n",
    "            counter[s[l]]-=1\n",
    "            if counter[s[l]]==0:\n",
    "                k_window-=1\n",
    "            l+=1\n",
    "\n",
    "        res = max(res,1+r-l)\n",
    "\n",
    "        r+=1\n",
    "\n",
    "    return res"
   ]
  },
  {
   "cell_type": "code",
   "execution_count": 10,
   "id": "c2a33bbd-e5ea-403e-9ff0-d9dcf15c2391",
   "metadata": {},
   "outputs": [
    {
     "data": {
      "text/plain": [
       "3"
      ]
     },
     "execution_count": 10,
     "metadata": {},
     "output_type": "execute_result"
    }
   ],
   "source": [
    "lengthOfLongestSubstringKDistinct('eceba',2)"
   ]
  },
  {
   "cell_type": "code",
   "execution_count": null,
   "id": "7d1c79ee-feec-4c62-8f72-e32e9443b4ca",
   "metadata": {},
   "outputs": [],
   "source": []
  }
 ],
 "metadata": {
  "kernelspec": {
   "display_name": "Python 3 (ipykernel)",
   "language": "python",
   "name": "python3"
  },
  "language_info": {
   "codemirror_mode": {
    "name": "ipython",
    "version": 3
   },
   "file_extension": ".py",
   "mimetype": "text/x-python",
   "name": "python",
   "nbconvert_exporter": "python",
   "pygments_lexer": "ipython3",
   "version": "3.9.5"
  }
 },
 "nbformat": 4,
 "nbformat_minor": 5
}
