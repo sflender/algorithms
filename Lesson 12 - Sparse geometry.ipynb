{
 "cells": [
  {
   "cell_type": "markdown",
   "id": "3be73a26-586b-497b-9424-47b5b726feef",
   "metadata": {},
   "source": [
    "# Sparse geometry"
   ]
  },
  {
   "cell_type": "code",
   "execution_count": 7,
   "id": "36300f65-f975-437d-aa56-f7d8e25e4f05",
   "metadata": {},
   "outputs": [],
   "source": [
    "def scalar_product(v1,v2):\n",
    "    # returns the scalar product of sparse vectors v1,v2\n",
    "    \n",
    "    def compress(v):\n",
    "        return dict([ (k,v) for k,v in enumerate(v) if v!=0 ])\n",
    "    \n",
    "    v1 = compress(v1)\n",
    "    v2 = compress(v2)\n",
    "    \n",
    "    res = 0\n",
    "    for key in v1.keys():\n",
    "        res += v1[key]*v2.get(key,0)\n",
    "        \n",
    "    return res"
   ]
  },
  {
   "cell_type": "code",
   "execution_count": 8,
   "id": "348c06be-976b-48d5-8b58-f492f69061d4",
   "metadata": {},
   "outputs": [
    {
     "data": {
      "text/plain": [
       "3"
      ]
     },
     "execution_count": 8,
     "metadata": {},
     "output_type": "execute_result"
    }
   ],
   "source": [
    "scalar_product([0,0,1,0,0],[0,0,3,0,1])"
   ]
  },
  {
   "cell_type": "code",
   "execution_count": 11,
   "id": "c15ba66f-dd43-40ad-aeb5-cdf019257529",
   "metadata": {},
   "outputs": [],
   "source": [
    "def matrix_product(A,B):\n",
    "    # returns the matrix product of sparse matrices A,B\n",
    "    \n",
    "    def compress(M):\n",
    "        rows,cols = len(M),len(M[0])\n",
    "        return [ [(col,M[row][col]) for col in range(cols) if M[row][col]] \n",
    "                for row in range(rows) ]\n",
    "    \n",
    "    res = [[0]*len(B[0]) for _ in range(len(A))]\n",
    "    \n",
    "    A = compress(A)\n",
    "    B = compress(B)\n",
    "    \n",
    "    for row_A in range(len(A)):\n",
    "        for col_A,val_A in A[row_A]:\n",
    "            for col_B,val_B in B[col_A]:\n",
    "                res[row_A][col_B] += val_A*val_B\n",
    "                \n",
    "    return res"
   ]
  },
  {
   "cell_type": "code",
   "execution_count": 12,
   "id": "0d841549-d91f-4b3f-875c-1936dc3f6f1e",
   "metadata": {},
   "outputs": [
    {
     "data": {
      "text/plain": [
       "[[1, 0, 0], [0, 0, 6], [0, 0, 9]]"
      ]
     },
     "execution_count": 12,
     "metadata": {},
     "output_type": "execute_result"
    }
   ],
   "source": [
    "A = [[1,0,0],[0,0,2],[0,0,3]]\n",
    "matrix_product(A,A)"
   ]
  },
  {
   "cell_type": "code",
   "execution_count": 15,
   "id": "4ddec38e-d889-457a-b2d3-86b5cd0a373c",
   "metadata": {},
   "outputs": [],
   "source": [
    "def matrix_vector(M,v):\n",
    "    # returns the matrix-vector product of sparse matrix M w/ vector v\n",
    "    \n",
    "    def compress(M):\n",
    "        rows,cols = len(M),len(M[0])\n",
    "        return [ [(col,M[row][col]) for col in range(cols) if M[row][col]] \n",
    "                for row in range(rows) ] \n",
    "    \n",
    "    M = compress(M)\n",
    "    \n",
    "    res = [0]*len(v)\n",
    "    \n",
    "    for row in range(len(res)):\n",
    "        for col,val in M[row]:\n",
    "            res[row] += val*v[col]\n",
    "    \n",
    "    return res"
   ]
  },
  {
   "cell_type": "code",
   "execution_count": 16,
   "id": "6bdd3b8a-f46e-4979-a3e7-62abbea49717",
   "metadata": {},
   "outputs": [
    {
     "data": {
      "text/plain": [
       "[1, 2, 3]"
      ]
     },
     "execution_count": 16,
     "metadata": {},
     "output_type": "execute_result"
    }
   ],
   "source": [
    "M = [[1,0,0],[0,0,2],[0,0,3]]\n",
    "v = [1,1,1]\n",
    "\n",
    "matrix_vector(M,v)"
   ]
  },
  {
   "cell_type": "code",
   "execution_count": null,
   "id": "e3cc65b0-43b9-42f1-92c2-398851a6de30",
   "metadata": {},
   "outputs": [],
   "source": []
  }
 ],
 "metadata": {
  "kernelspec": {
   "display_name": "Python 3 (ipykernel)",
   "language": "python",
   "name": "python3"
  },
  "language_info": {
   "codemirror_mode": {
    "name": "ipython",
    "version": 3
   },
   "file_extension": ".py",
   "mimetype": "text/x-python",
   "name": "python",
   "nbconvert_exporter": "python",
   "pygments_lexer": "ipython3",
   "version": "3.9.5"
  }
 },
 "nbformat": 4,
 "nbformat_minor": 5
}
