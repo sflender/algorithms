{
 "cells": [
  {
   "cell_type": "markdown",
   "id": "c9e2d8ec-4fd1-4414-bdef-8de378c58e25",
   "metadata": {},
   "source": [
    "# Greedy algorithms\n",
    "\n",
    "Greedy algorithms optimize locally, given the information at the time. We can aleays be greedy, but there's no guarantee that the greedy solution will lead to the solution that's also globally optimal. Here are some examples where a greedy solution indeed leads to the global optimum."
   ]
  },
  {
   "cell_type": "markdown",
   "id": "850ffea1-2a0a-42a5-8a70-7a6084269d8b",
   "metadata": {},
   "source": [
    "## Problem: container with most water\n",
    "Given an array of numbers nums, return the maximum area of the square that can be created by picking two of nums as the boundaries.\n",
    "\n",
    "Example: [1,8,6,2,5,4,8,3,7] --> 7x7=49\n",
    "\n",
    "A good solution here is a greedy one: start with two pointers at either end, and then always move the pointer where nums is lower. In fact this is intuitive: why would you move the bigger one?"
   ]
  },
  {
   "cell_type": "code",
   "execution_count": 3,
   "id": "ab7cd653-0b7a-43da-bff4-310e79f30cde",
   "metadata": {},
   "outputs": [],
   "source": [
    "def container_with_most_water(nums):\n",
    "    l,r=0,len(nums)-1\n",
    "    ans=0\n",
    "    while l<r:\n",
    "        ans = max(ans, (r-l)*min(nums[l], nums[r]))\n",
    "        if nums[l]<nums[r]:\n",
    "            l+=1\n",
    "        else:\n",
    "            r-=1\n",
    "    return ans"
   ]
  },
  {
   "cell_type": "code",
   "execution_count": 4,
   "id": "1a3e2d5a-a0b9-4c4e-a71e-44f1fe6f4297",
   "metadata": {},
   "outputs": [
    {
     "data": {
      "text/plain": [
       "49"
      ]
     },
     "execution_count": 4,
     "metadata": {},
     "output_type": "execute_result"
    }
   ],
   "source": [
    "container_with_most_water([1,8,6,2,5,4,8,3,7])"
   ]
  },
  {
   "cell_type": "markdown",
   "id": "49d5361d-00b5-436c-b192-3ed338164ce9",
   "metadata": {},
   "source": [
    "## Problem: maximum subarray\n",
    "\n",
    "Given an array nums, return the sum of the maximum contiguous subarray.\n",
    "\n",
    "Input: nums = [-2,1,-3,4,-1,2,1,-5,4] \\\n",
    "Output: 6 \\\n",
    "Explanation: [4,-1,2,1] has the largest sum = 6.\n",
    "\n",
    "Again, a greedy solution works here: loop through each point in the array. At each point, consider whether the number itself is better than the number added to the current local maximum. This is also known as Kadane's algorithm. "
   ]
  },
  {
   "cell_type": "code",
   "execution_count": 5,
   "id": "91f083fd-77fe-4823-aa0b-8ba6cbe9f2ab",
   "metadata": {},
   "outputs": [],
   "source": [
    "def max_subarray(nums):\n",
    "    local_max, global_max = 0,0\n",
    "    for n in nums:\n",
    "        local_max = max(local_max+n, n)\n",
    "        global_max = max(global_max, local_max)\n",
    "    return global_max"
   ]
  },
  {
   "cell_type": "code",
   "execution_count": 6,
   "id": "baa005a3-5679-4b40-a772-2c817c321f8a",
   "metadata": {},
   "outputs": [
    {
     "data": {
      "text/plain": [
       "6"
      ]
     },
     "execution_count": 6,
     "metadata": {},
     "output_type": "execute_result"
    }
   ],
   "source": [
    "max_subarray([-2,1,-3,4,-1,2,1,-5,4] )"
   ]
  },
  {
   "cell_type": "code",
   "execution_count": null,
   "id": "64bc6471-cce7-402b-a127-baabcb986e8a",
   "metadata": {},
   "outputs": [],
   "source": []
  }
 ],
 "metadata": {
  "kernelspec": {
   "display_name": "Python 3 (ipykernel)",
   "language": "python",
   "name": "python3"
  },
  "language_info": {
   "codemirror_mode": {
    "name": "ipython",
    "version": 3
   },
   "file_extension": ".py",
   "mimetype": "text/x-python",
   "name": "python",
   "nbconvert_exporter": "python",
   "pygments_lexer": "ipython3",
   "version": "3.9.5"
  }
 },
 "nbformat": 4,
 "nbformat_minor": 5
}
