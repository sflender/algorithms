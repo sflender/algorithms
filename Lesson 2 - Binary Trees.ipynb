{
 "cells": [
  {
   "cell_type": "markdown",
   "metadata": {
    "collapsed": true
   },
   "source": [
    "## Binary trees\n",
    "The tree datastructure can be considered an extension of the linked list: instead of one linked node, each node in a tree can have 0, 1, or 2 (a \"left\" and a \"right\") child nodes.\n",
    "\n",
    "A special case is the *binary search tree*, which has the special property that for each node, *all left descendants are smaller, and all right descendants are bigger*!\n",
    "\n",
    "Advantages of trees:\n",
    "- A heap (tree) allows returning the min (or max) with O(1) instead of O(N).\n",
    "- A binary search tree (if balanced) allows searching for an element with O(logN), instead of O(N).\n",
    "\n",
    "Algorithms we will review here:\n",
    "- breath-first search (BFS), \n",
    "- depth-first-seach (DFS), \n",
    "- in-order traversal, \n",
    "- construct BST from sorted array, \n",
    "- check if tree is BST"
   ]
  },
  {
   "cell_type": "code",
   "execution_count": 2,
   "metadata": {},
   "outputs": [],
   "source": [
    "from collections import deque\n",
    "\n",
    "class Node:\n",
    "    def __init__(self, val):\n",
    "        self.l = None\n",
    "        self.r = None\n",
    "        self.v = val\n",
    "        \n",
    "def bfs(root):\n",
    "    # breath-first search --> go down all branches simultaneously\n",
    "    # important: use Queue datastructure!\n",
    "    Q = deque()\n",
    "    Q.append(root)\n",
    "    vals = []\n",
    "    while Q:\n",
    "        n = Q.popleft()\n",
    "        vals.append(n.v)\n",
    "        if n.l:\n",
    "            Q.append(n.l)\n",
    "        if n.r:\n",
    "            Q.append(n.r)\n",
    "    return vals\n",
    "\n",
    "def dfs(root):\n",
    "    # depth-first search --> \"go down the rabbit hole\" and repeat\n",
    "    # important: use recursion!\n",
    "    vals = []\n",
    "    def record(root, vals):\n",
    "        # helper function for recording values in the tree\n",
    "        if root: \n",
    "            vals.append(root.v)\n",
    "            record(root.l, vals)\n",
    "            record(root.r, vals)\n",
    "    record(root, vals)\n",
    "    return vals"
   ]
  },
  {
   "cell_type": "code",
   "execution_count": 3,
   "metadata": {},
   "outputs": [],
   "source": [
    "# construct a binary tree which looks like this:\n",
    "#       1\n",
    "#    2       3\n",
    "# 4    5    6 7\n",
    "#8 9 10 11\n",
    "\n",
    "N = Node(1)\n",
    "N.l = Node(2)\n",
    "N.r = Node(3)\n",
    "N.l.l = Node(4)\n",
    "N.l.r = Node(5)\n",
    "N.r.l = Node(6)\n",
    "N.r.r = Node(7)\n",
    "N.l.l.l = Node(8)\n",
    "N.l.l.r = Node(9)\n",
    "N.l.r.l = Node(10)\n",
    "N.l.r.r = Node(11)"
   ]
  },
  {
   "cell_type": "code",
   "execution_count": 4,
   "metadata": {},
   "outputs": [
    {
     "name": "stdout",
     "output_type": "stream",
     "text": [
      "DFS: [1, 2, 4, 8, 9, 5, 10, 11, 3, 6, 7]\n",
      "BFS: [1, 2, 3, 4, 5, 6, 7, 8, 9, 10, 11]\n"
     ]
    }
   ],
   "source": [
    "# now you can see the difference between DFS and BFS:\n",
    "print \"DFS:\", dfs(N)\n",
    "print \"BFS:\", bfs(N)"
   ]
  },
  {
   "cell_type": "code",
   "execution_count": 5,
   "metadata": {},
   "outputs": [],
   "source": [
    "# next, consider this BST:\n",
    "#      5\n",
    "#    3    7\n",
    "#  2  4  6  8\n",
    "#\n",
    "# traversing this \"in order\" --> 2 3 4 5 6 7 8\n",
    "\n",
    "M = Node(5)\n",
    "M.l = Node(3)\n",
    "M.r = Node(7)\n",
    "M.l.l = Node(2)\n",
    "M.l.r = Node(4)\n",
    "M.r.l = Node(6)\n",
    "M.r.r = Node(8)"
   ]
  },
  {
   "cell_type": "code",
   "execution_count": 6,
   "metadata": {},
   "outputs": [
    {
     "name": "stdout",
     "output_type": "stream",
     "text": [
      "[2, 3, 4, 5, 6, 7, 8]\n",
      "[8, 4, 9, 2, 10, 5, 11, 1, 6, 3, 7]\n"
     ]
    }
   ],
   "source": [
    "# function for in-order-traversal. \n",
    "# this is alomst the exact same as dfs, with two lines swapped\n",
    "# iot can be of course used to check if tree is BST.\n",
    "\n",
    "def iot(node):\n",
    "    vals = []\n",
    "    def record(n, vals):\n",
    "        if n:\n",
    "            record(n.l, vals)\n",
    "            vals.append(n.v)\n",
    "            record(n.r, vals)\n",
    "    record(node,vals)\n",
    "    return vals\n",
    "\n",
    "print iot(M)\n",
    "print iot(N)"
   ]
  },
  {
   "cell_type": "code",
   "execution_count": 7,
   "metadata": {},
   "outputs": [],
   "source": [
    "# construct a binary search tree from a sorted array\n",
    "# start at the middle, smaller stuff goes left, bigger stuff goes right, recurse\n",
    "\n",
    "def array_to_bst(array):\n",
    "    if not array:\n",
    "        return\n",
    "    mid = (len(array)-1)/2\n",
    "    node = Node(array[mid])\n",
    "    node.l = array_to_bst(array[:mid])\n",
    "    node.r = array_to_bst(array[mid+1:])\n",
    "    return node"
   ]
  },
  {
   "cell_type": "code",
   "execution_count": 8,
   "metadata": {},
   "outputs": [
    {
     "name": "stdout",
     "output_type": "stream",
     "text": [
      "[1, 2, 3, 4, 5, 6, 7, 8, 9, 10]\n"
     ]
    }
   ],
   "source": [
    "# it works!\n",
    "root = array_to_bst([1,2,3,4,5,6,7,8,9,10])\n",
    "print iot(root)"
   ]
  },
  {
   "cell_type": "code",
   "execution_count": null,
   "metadata": {},
   "outputs": [],
   "source": []
  },
  {
   "cell_type": "code",
   "execution_count": null,
   "metadata": {},
   "outputs": [],
   "source": []
  }
 ],
 "metadata": {
  "kernelspec": {
   "display_name": "Python 2",
   "language": "python",
   "name": "python2"
  },
  "language_info": {
   "codemirror_mode": {
    "name": "ipython",
    "version": 2
   },
   "file_extension": ".py",
   "mimetype": "text/x-python",
   "name": "python",
   "nbconvert_exporter": "python",
   "pygments_lexer": "ipython2",
   "version": "2.7.15"
  }
 },
 "nbformat": 4,
 "nbformat_minor": 2
}
