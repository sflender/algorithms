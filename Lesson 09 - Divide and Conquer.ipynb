{
 "cells": [
  {
   "cell_type": "markdown",
   "id": "cb52d31a-cc13-4028-bfbc-0f2579244d63",
   "metadata": {},
   "source": [
    "# Divide and conquer"
   ]
  },
  {
   "cell_type": "code",
   "execution_count": null,
   "id": "74b3e786-c8cf-42ba-bfb2-fa2aa80661a6",
   "metadata": {},
   "outputs": [],
   "source": []
  }
 ],
 "metadata": {
  "kernelspec": {
   "display_name": "Python 3 (ipykernel)",
   "language": "python",
   "name": "python3"
  },
  "language_info": {
   "codemirror_mode": {
    "name": "ipython",
    "version": 3
   },
   "file_extension": ".py",
   "mimetype": "text/x-python",
   "name": "python",
   "nbconvert_exporter": "python",
   "pygments_lexer": "ipython3",
   "version": "3.9.5"
  }
 },
 "nbformat": 4,
 "nbformat_minor": 5
}
