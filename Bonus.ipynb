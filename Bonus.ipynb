{
 "cells": [
  {
   "cell_type": "markdown",
   "id": "e6f0a465-202f-4360-8c0b-b4a51ca9d96d",
   "metadata": {},
   "source": [
    "# Bonus puzzles"
   ]
  },
  {
   "cell_type": "code",
   "execution_count": 1,
   "id": "d37ec3fa-4403-436d-a626-bec40bd7ad52",
   "metadata": {},
   "outputs": [],
   "source": [
    "from collections import deque"
   ]
  },
  {
   "cell_type": "markdown",
   "id": "dbda6422-c778-4160-b5ea-53734230a439",
   "metadata": {},
   "source": [
    "## The atlantic/pacific problem"
   ]
  },
  {
   "cell_type": "code",
   "execution_count": 18,
   "id": "9b25ac6c-4e00-41d1-9afc-2d15f9eff69b",
   "metadata": {},
   "outputs": [],
   "source": [
    "'''\n",
    "The atlantic/pacific problem. Consider a grid surrounded by the pacific to the top and left, \n",
    "and the atlantic to the bottom and right:\n",
    "\n",
    "ppppp\n",
    "pggga\n",
    "pggga\n",
    "pggga\n",
    "aaaaa\n",
    "\n",
    "The task is to return all points in the grid from which water can flow to both oceans. \n",
    "\n",
    "The trick is to work backwards, start at the edge to the ocean and go inwards as long as the grid height increases.\n",
    "'''\n",
    "\n",
    "def pacific_atlantic(grid): # grid[row][column]\n",
    "    num_rows = len(grid)\n",
    "    num_cols = len(grid[0])\n",
    "    Q_atlantic = deque([(num_rows-1,i) for i in range(num_cols)] + [(i,num_cols-1) for i in range(num_rows)])\n",
    "    Q_pacific  = deque([(0,i) for i in range(num_cols)] + [(i,0) for i in range(num_rows)])\n",
    "    \n",
    "    def bfs(queue):\n",
    "        reachable = set()\n",
    "        # given queue, populate reachable\n",
    "        while queue:\n",
    "            #print(queue)\n",
    "            i,j = queue.popleft()\n",
    "            reachable.add((i,j))\n",
    "            for I,J in [[i+1,j],[i-1,j],[i,j+1],[i,j-1]]:\n",
    "                #print((i,j),(I,J))\n",
    "                if I>=num_rows or I<0 or J>=num_cols or J<0:\n",
    "                    # we're outside the grid\n",
    "                    continue\n",
    "                    \n",
    "                if (I,J) in reachable:\n",
    "                    # we've been here before, so ignore\n",
    "                    continue\n",
    "                \n",
    "                if grid[I][J]>=grid[i][j]:\n",
    "                    # this position is reachable, so add to queue\n",
    "                    queue.append((I,J))\n",
    "        return reachable\n",
    "        \n",
    "        \n",
    "    reachable_atlantic = bfs(Q_atlantic)\n",
    "    reachable_pacific = bfs(Q_pacific)\n",
    "    \n",
    "    return list( reachable_atlantic.intersection(reachable_pacific) )"
   ]
  },
  {
   "cell_type": "code",
   "execution_count": 17,
   "id": "d2b5a674-a68c-4b05-83e4-d58a8bfa00e1",
   "metadata": {},
   "outputs": [
    {
     "data": {
      "text/plain": [
       "[(4, 0), (0, 4), (3, 1), (1, 4), (3, 0), (2, 2), (1, 3)]"
      ]
     },
     "execution_count": 17,
     "metadata": {},
     "output_type": "execute_result"
    }
   ],
   "source": [
    "# the answer should be: [[0,4],[1,3],[1,4],[2,2],[3,0],[3,1],[4,0]]\n",
    "\n",
    "grid = [[1,2,2,3,5],[3,2,3,4,4],[2,4,5,3,1],[6,7,1,4,5],[5,1,1,2,4]]\n",
    "pacific_atlantic(grid)"
   ]
  },
  {
   "cell_type": "code",
   "execution_count": null,
   "id": "c06aa2d8-ce33-46a6-9e0d-10686af5fb05",
   "metadata": {},
   "outputs": [],
   "source": []
  }
 ],
 "metadata": {
  "kernelspec": {
   "display_name": "Python 3 (ipykernel)",
   "language": "python",
   "name": "python3"
  },
  "language_info": {
   "codemirror_mode": {
    "name": "ipython",
    "version": 3
   },
   "file_extension": ".py",
   "mimetype": "text/x-python",
   "name": "python",
   "nbconvert_exporter": "python",
   "pygments_lexer": "ipython3",
   "version": "3.9.5"
  }
 },
 "nbformat": 4,
 "nbformat_minor": 5
}
