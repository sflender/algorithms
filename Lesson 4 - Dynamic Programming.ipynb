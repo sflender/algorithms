{
 "cells": [
  {
   "cell_type": "markdown",
   "metadata": {},
   "source": [
    "## Dynamic programming\n",
    "Dynamic programming means that we arrive at the solution to a problem dynamically, wither by allocating memory dynamically as we approach a solution (*memoization*), or by solving smaller sub-problems first (*bottom-up approach*). Use dynamic programming when the recursive solution is slow and inefficient. It is really a form of optimization!\n",
    "\n",
    "Here, we will use dynamic programming to generate Fibonacci numbers. The Fibonacci sequence is:  \n",
    "fib(0) = 0  \n",
    "fib(1) = 1  \n",
    "fib(n>1) = fib(n-1) - fib(n-2)  "
   ]
  },
  {
   "cell_type": "code",
   "execution_count": 19,
   "metadata": {},
   "outputs": [],
   "source": [
    "def fib_slow(n):\n",
    "    # this recursive algorithm scales like 2^n - which is terrible!\n",
    "    if n==0 or n==1:\n",
    "        return n\n",
    "    else: \n",
    "        return fib_slow(n-2) + fib_slow(n-1)"
   ]
  },
  {
   "cell_type": "code",
   "execution_count": 23,
   "metadata": {},
   "outputs": [
    {
     "data": {
      "text/plain": [
       "832040"
      ]
     },
     "execution_count": 23,
     "metadata": {},
     "output_type": "execute_result"
    }
   ],
   "source": [
    "# note how slow this is\n",
    "fib_slow(30)"
   ]
  },
  {
   "cell_type": "code",
   "execution_count": 21,
   "metadata": {},
   "outputs": [],
   "source": [
    "def fib_bu(n):\n",
    "    # bottom-up approach. solve the smaller numbers first, and go higher incrementally\n",
    "    if n==0 or n==1:\n",
    "        return n\n",
    "    a,b = 0,1\n",
    "    i = 2\n",
    "    while i<n:\n",
    "        a,b = b,a+b\n",
    "        i += 1\n",
    "    return a+b"
   ]
  },
  {
   "cell_type": "code",
   "execution_count": 24,
   "metadata": {},
   "outputs": [
    {
     "data": {
      "text/plain": [
       "832040"
      ]
     },
     "execution_count": 24,
     "metadata": {},
     "output_type": "execute_result"
    }
   ],
   "source": [
    "# note how much faster this is\n",
    "fib_bu(30)"
   ]
  },
  {
   "cell_type": "code",
   "execution_count": 25,
   "metadata": {},
   "outputs": [],
   "source": [
    "def fib_memo(n):\n",
    "    # in the memoization approach, we use a cache to store values we already computed previously\n",
    "    cache = {}\n",
    "    def find_fib(n, cache):\n",
    "        if n==0 or n==1:\n",
    "            return n\n",
    "        elif n in cache.keys():\n",
    "            return cache[n]\n",
    "        else:\n",
    "            res = find_fib(n-2,cache) + find_fib(n-1,cache)\n",
    "            cache[n] = res\n",
    "        return res\n",
    "    return find_fib(n, cache)"
   ]
  },
  {
   "cell_type": "code",
   "execution_count": 27,
   "metadata": {},
   "outputs": [
    {
     "data": {
      "text/plain": [
       "832040"
      ]
     },
     "execution_count": 27,
     "metadata": {},
     "output_type": "execute_result"
    }
   ],
   "source": [
    "# similarly fast as bottom-up approach\n",
    "fib_memo(30)"
   ]
  },
  {
   "cell_type": "code",
   "execution_count": 3,
   "metadata": {},
   "outputs": [],
   "source": [
    "def fib(n, all_nums = False):\n",
    "    fib_nums = [0,1]\n",
    "    for i in range(2,n+1):\n",
    "        fib_nums.append(fib_nums[i-2]+fib_nums[i-1])\n",
    "    if all_nums:\n",
    "        return fib_nums[0:n+1]\n",
    "    return fib_nums[n+1]"
   ]
  },
  {
   "cell_type": "code",
   "execution_count": null,
   "metadata": {
    "collapsed": true
   },
   "outputs": [],
   "source": []
  }
 ],
 "metadata": {
  "kernelspec": {
   "display_name": "Python 2",
   "language": "python",
   "name": "python2"
  },
  "language_info": {
   "codemirror_mode": {
    "name": "ipython",
    "version": 2
   },
   "file_extension": ".py",
   "mimetype": "text/x-python",
   "name": "python",
   "nbconvert_exporter": "python",
   "pygments_lexer": "ipython2",
   "version": "2.7.15"
  }
 },
 "nbformat": 4,
 "nbformat_minor": 2
}
