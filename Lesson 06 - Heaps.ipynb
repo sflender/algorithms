{
 "cells": [
  {
   "cell_type": "markdown",
   "id": "dfdd569e-7cfa-4fd0-8813-e747926a67ed",
   "metadata": {},
   "source": [
    "# Heaps\n",
    "\n",
    "Heaps are binary trees with a specific ordering criterion:\n",
    "- in min-heaps, the child nodes are always bigger\n",
    "- in max-heaps, the child nodes are always smaller\n",
    "\n",
    "This data structure is therefore useful if we have to keep track of the minimum or maximum over time. The heap operations are:\n",
    "\n",
    "- push: O(logN)\n",
    "- pop: O(logN)\n",
    "- get min/max: constant\n",
    "- heapify (i.e. turn an array into a heap): O(N)\n",
    "- nlargest: O(log n)\n",
    "- nsmallest: O(log n)"
   ]
  },
  {
   "cell_type": "code",
   "execution_count": 5,
   "id": "2a71adae-32ee-49a7-b403-09db7bb57b00",
   "metadata": {},
   "outputs": [],
   "source": [
    "from heapq import heapify, heappush, heappop, nlargest, nsmallest"
   ]
  },
  {
   "cell_type": "code",
   "execution_count": 18,
   "id": "695795d6-eb95-429b-b9e4-6a1771b220f0",
   "metadata": {},
   "outputs": [
    {
     "name": "stdout",
     "output_type": "stream",
     "text": [
      "1\n",
      "2\n",
      "4\n",
      "6\n",
      "7\n",
      "9\n"
     ]
    }
   ],
   "source": [
    "heap = [6,2,9,4,7,1]\n",
    "heapify(heap)\n",
    "for _ in range(len(heap)):\n",
    "    print( heappop(heap) )"
   ]
  },
  {
   "cell_type": "code",
   "execution_count": 14,
   "id": "02a6ef09-1a26-43c9-8f39-0e9f05a792e5",
   "metadata": {},
   "outputs": [
    {
     "name": "stdout",
     "output_type": "stream",
     "text": [
      "1\n",
      "2\n",
      "4\n",
      "6\n",
      "7\n",
      "9\n"
     ]
    }
   ],
   "source": [
    "# of course, this is equivalent to: \n",
    "\n",
    "heap = []\n",
    "for i in [6,2,9,4,7,1]:\n",
    "    heappush(heap,i)\n",
    "    \n",
    "for _ in range(len(heap)):\n",
    "    print( heappop(heap) )"
   ]
  },
  {
   "cell_type": "markdown",
   "id": "a7487c1d-b36e-499f-82b0-2ab638bd89f9",
   "metadata": {},
   "source": [
    "Note there's no implementation of max-heap in python, but instead we can simply negate the min-heap to create a proxy-max heap:"
   ]
  },
  {
   "cell_type": "code",
   "execution_count": 11,
   "id": "04141cf2-8d76-4c61-b9e0-921e1fdc4f56",
   "metadata": {},
   "outputs": [
    {
     "name": "stdout",
     "output_type": "stream",
     "text": [
      "9\n",
      "7\n",
      "6\n",
      "4\n",
      "2\n",
      "1\n"
     ]
    }
   ],
   "source": [
    "heap = [6,2,9,4,7,1]\n",
    "heap = [-n for n in heap]\n",
    "heapify(heap)\n",
    "for _ in range(len(heap)):\n",
    "    print( -heappop(heap) )"
   ]
  },
  {
   "cell_type": "markdown",
   "id": "900f13ad-86d0-414d-8566-6d08b4fca983",
   "metadata": {},
   "source": [
    "## Using nsmallest and nlargest\n",
    "In python, we can simply call nsmallest() and nlargest on a python list. Under the hood, the list will be converted into a min/max heap of size n, so that we can then pop from the heap n times to get the desired output. "
   ]
  },
  {
   "cell_type": "code",
   "execution_count": 33,
   "id": "268ec867-89b2-4177-a1ee-be643718886c",
   "metadata": {},
   "outputs": [
    {
     "name": "stdout",
     "output_type": "stream",
     "text": [
      "[1, 2, 4]\n",
      "[9, 7, 6]\n"
     ]
    }
   ],
   "source": [
    "heap = [6,2,9,4,7,1]\n",
    "print( nsmallest(3,heap) )\n",
    "print( nlargest(3,heap) )"
   ]
  },
  {
   "cell_type": "markdown",
   "id": "7698a8b2-b574-46b7-9e1b-caadefcde3af",
   "metadata": {},
   "source": [
    "## Problem: get the top-k most frequent elements in a list\n",
    "\n",
    "We could solve this problem with frequency counting + sorting, which would be O(NlogN), where N is the number of unique elements in the list. However, we actually don't need to sort everything, instead we only need the top-k elements. That's why a heap-based solution wins here. The solution shown below runs with O(klogk)"
   ]
  },
  {
   "cell_type": "code",
   "execution_count": 40,
   "id": "48659018-5d7a-461a-aaf8-ee704101d3eb",
   "metadata": {},
   "outputs": [
    {
     "data": {
      "text/plain": [
       "[1, 2]"
      ]
     },
     "execution_count": 40,
     "metadata": {},
     "output_type": "execute_result"
    }
   ],
   "source": [
    "from collections import Counter\n",
    "def topk(nums,k):\n",
    "    counts = Counter(nums)\n",
    "    return nlargest(k,counts.keys(), key=lambda n: counts[n])\n",
    "\n",
    "topk([1,1,1,2,2,3],2)"
   ]
  },
  {
   "cell_type": "markdown",
   "id": "81f1cc19-9991-4af5-96ee-da4af008ab01",
   "metadata": {},
   "source": [
    "## Problem: number of meeting rooms\n",
    "\n",
    "Given a list of meeting intervals, what's the number of conference rooms needed to accomodate all meetings?\n",
    "\n",
    "This problem can be elegantly solved with a min-heap: \n",
    "1. sort the intervals by start date\n",
    "2. create a min-heap of the end times: the head node of the heap is then the earliest time available.\n",
    "3. loop through the intervals. If it starts after the head of the min-heap, pop it. Otherwise, add it to the min-heap.\n",
    "\n",
    "Example:\\\n",
    "Input: intervals = [[0,30],[5,10],[15,20]]\\\n",
    "Output: 2"
   ]
  },
  {
   "cell_type": "code",
   "execution_count": 10,
   "id": "2e9c637b-a58d-4c37-80ac-a71dbab03d06",
   "metadata": {},
   "outputs": [],
   "source": [
    "def num_rooms(intervals):\n",
    "    \n",
    "    intervals.sort(key = lambda x:x[0])\n",
    "    heap = []\n",
    "    heappush(heap,intervals[0][1])\n",
    "    \n",
    "    for i in range(1,len(intervals)):\n",
    "        start,end = intervals[i][0],intervals[i][1]\n",
    "        if start>heap[0]:\n",
    "            heappop(heap)\n",
    "        heappush(heap,intervals[i][1])\n",
    "    print(len(heap))"
   ]
  },
  {
   "cell_type": "code",
   "execution_count": 11,
   "id": "1f5d701f-6fcd-4888-bfbb-613a2fe1fbd0",
   "metadata": {},
   "outputs": [
    {
     "name": "stdout",
     "output_type": "stream",
     "text": [
      "2\n"
     ]
    }
   ],
   "source": [
    "num_rooms( [[0,30],[5,10],[15,20]] )"
   ]
  },
  {
   "cell_type": "markdown",
   "id": "771dd889-30ae-4e77-8b97-7af7bf33f90c",
   "metadata": {},
   "source": [
    "# Problem: get the k closest points to origin\n",
    "\n",
    "This is another problem of the type \"get the k smallest\" or \"get the k largest\". In these cases, a heap is always prefered. Why? It's a waste to sort the entire array!\n",
    "\n",
    "Let's say, the array has length 1M, and we want the top 5 smallest elements. Using the heap (instead of sorting) would be log(1M)/log(5) ~ 9X faster!"
   ]
  },
  {
   "cell_type": "code",
   "execution_count": 3,
   "id": "aed6d460-4b9e-4376-9aa9-d8bfbd7620be",
   "metadata": {},
   "outputs": [
    {
     "data": {
      "text/plain": [
       "8.58405934844036"
      ]
     },
     "execution_count": 3,
     "metadata": {},
     "output_type": "execute_result"
    }
   ],
   "source": [
    "import numpy as np\n",
    "np.log(1e6)/np.log(5)"
   ]
  },
  {
   "cell_type": "code",
   "execution_count": 4,
   "id": "b4c43aa3-4062-47c4-bb44-ec018b3607bf",
   "metadata": {},
   "outputs": [],
   "source": [
    "def kClosest(self,points,k):\n",
    "    '''\n",
    "    min-heap solution, O(Nlogk)\n",
    "    Note we use negative squared distance here because python heapq only supports max-heap.\n",
    "    '''\n",
    "\n",
    "    def calc_dist(p):\n",
    "        # return the negative squared distance\n",
    "        return -(p[0]**2+p[1]**2)\n",
    "\n",
    "    heap = []\n",
    "    for i in range(k):\n",
    "        dist = calc_dist(points[i])\n",
    "        heapq.heappush(heap,(dist,i))  # <O(log(k))\n",
    "\n",
    "    for i in range(k,len(points)):\n",
    "        dist = calc_dist(points[i])\n",
    "        if dist>heap[0][0]:\n",
    "            heapq.heappop(heap)\n",
    "            heapq.heappush(heap,(dist,i))  # O(log(k))\n",
    "\n",
    "    return [points[heap[i][1]] for i in range(k)]"
   ]
  },
  {
   "cell_type": "code",
   "execution_count": null,
   "id": "45e36328-536c-4017-a2b7-fb6b70cc7cb3",
   "metadata": {},
   "outputs": [],
   "source": []
  }
 ],
 "metadata": {
  "kernelspec": {
   "display_name": "Python 3 (ipykernel)",
   "language": "python",
   "name": "python3"
  },
  "language_info": {
   "codemirror_mode": {
    "name": "ipython",
    "version": 3
   },
   "file_extension": ".py",
   "mimetype": "text/x-python",
   "name": "python",
   "nbconvert_exporter": "python",
   "pygments_lexer": "ipython3",
   "version": "3.9.5"
  }
 },
 "nbformat": 4,
 "nbformat_minor": 5
}
