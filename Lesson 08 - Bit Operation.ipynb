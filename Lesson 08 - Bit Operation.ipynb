{
 "cells": [
  {
   "cell_type": "markdown",
   "id": "9e139b65-e4eb-4761-9b34-6ad79a0c4f3b",
   "metadata": {},
   "source": [
    "# Bit operations\n",
    "\n",
    "In python we have the following bit operations: \n",
    "- &: AND\n",
    "- ^: exlicit OR\n",
    "- |: OR\n",
    "- \">>\", \"<<\": right-shift, left-shift\n",
    "- ~: complement"
   ]
  },
  {
   "cell_type": "markdown",
   "id": "2f83bbb4-77e5-4f12-839a-0dff99a641c4",
   "metadata": {},
   "source": [
    "## problem: count the number of 1 bits in num\n",
    "\n",
    "Example:\n",
    "- 7 = 111 = 3\n",
    "- 6 = 101 = 2\n",
    "- 5 = 11 = 2\n",
    "etc\n",
    "\n",
    "This type of problem can be solved with a bit mask + shift/AND operator"
   ]
  },
  {
   "cell_type": "code",
   "execution_count": 9,
   "id": "e6c53afe-69df-4f49-9571-f47738ed2ede",
   "metadata": {},
   "outputs": [],
   "source": [
    "def num_ones(num):\n",
    "    cnt=0\n",
    "    mask = 1\n",
    "    while mask<1e32:  # why 32? that's the biggest int in 32 bit.\n",
    "        if mask&num>0:\n",
    "            cnt+=1\n",
    "        mask = mask<<1\n",
    "    return cnt"
   ]
  },
  {
   "cell_type": "code",
   "execution_count": 10,
   "id": "0d23cf1e-2b3b-4c10-9c09-c8ce6b29d570",
   "metadata": {},
   "outputs": [
    {
     "name": "stdout",
     "output_type": "stream",
     "text": [
      "7 3\n",
      "6 2\n",
      "5 2\n"
     ]
    }
   ],
   "source": [
    "for i in [7,6,5]:\n",
    "    print(i, num_ones(i))"
   ]
  },
  {
   "cell_type": "markdown",
   "id": "96c9926c-4b8d-4eb5-808f-bd50da782ee6",
   "metadata": {},
   "source": [
    "## problem: sum two numbers using just bit-wise operators\n",
    "\n",
    "Adding this problem here for completeness."
   ]
  },
  {
   "cell_type": "code",
   "execution_count": 12,
   "id": "c4ab7ff5-aa29-4b4f-8932-819dd0d2be4e",
   "metadata": {},
   "outputs": [],
   "source": [
    "def getSum(a: int, b: int) -> int:\n",
    "\n",
    "    while b>0:\n",
    "        XOR = a^b\n",
    "        AND = a&b\n",
    "        a = XOR\n",
    "        b = AND<<1\n",
    "\n",
    "    return a"
   ]
  },
  {
   "cell_type": "code",
   "execution_count": 13,
   "id": "e74e39c2-026f-495e-8ec7-97c13c0241a2",
   "metadata": {},
   "outputs": [
    {
     "data": {
      "text/plain": [
       "77"
      ]
     },
     "execution_count": 13,
     "metadata": {},
     "output_type": "execute_result"
    }
   ],
   "source": [
    "getSum(45,32)"
   ]
  },
  {
   "cell_type": "code",
   "execution_count": null,
   "id": "dafb3852-13e8-4bba-b309-1a0d6413e813",
   "metadata": {},
   "outputs": [],
   "source": []
  }
 ],
 "metadata": {
  "kernelspec": {
   "display_name": "Python 3 (ipykernel)",
   "language": "python",
   "name": "python3"
  },
  "language_info": {
   "codemirror_mode": {
    "name": "ipython",
    "version": 3
   },
   "file_extension": ".py",
   "mimetype": "text/x-python",
   "name": "python",
   "nbconvert_exporter": "python",
   "pygments_lexer": "ipython3",
   "version": "3.9.5"
  }
 },
 "nbformat": 4,
 "nbformat_minor": 5
}
