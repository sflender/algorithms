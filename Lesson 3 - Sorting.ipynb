{
 "cells": [
  {
   "cell_type": "markdown",
   "metadata": {
    "collapsed": true
   },
   "source": [
    "## Sorting algorithms\n",
    "Sorting is everywhere: search results, playlists, bank transactions, etc. You should know these sorting algorithms:\n",
    "- *bubble sort*: \n",
    "    - sort neighboring pairs, repeat until the entire array is sorted. \n",
    "    - O(1) space, O(N^2) time. Extremely inefficient.\n",
    "- *insert sort*: \n",
    "    - keep moving elements to the right until you find an element that is smaller. \n",
    "    - O(1) space, O(N^2) in time. \n",
    "    - However, there are special cases where it would be faster, e.g. when the array is already mostly sorted.\n",
    "- *merge sort*: \n",
    "    - divide-and-conquer algorithm. Merge two sorted halves of the array. Call recursively. Base case: 1-2 elements. \n",
    "    - O(nlogn) in time worst case, O(logn) space\n",
    "- *heap sort*: \n",
    "    - turn array into heap (O(N)), then pop element-wise, keeping heap property (logN per pop) \n",
    "    - --> total complexity O(N) + O(NlogN) = O(NlogN), O(1) in space (in-place)\n",
    "    - caveat: heap sort is not stable (will not conserve order of a sequence of same items)\n",
    "- *quicksort*: \n",
    "    - choose random pivot point. sort smaller elements to the left and larger elements to the right. recurse until base-case (which is only one element). \n",
    "    - O(nlogn) on average, O(n^2) worst-case. O(1) space. \n",
    "    - Quicksort is often used in practice because the constant factors are quite small so it is usually fastest. Worst-case is really unlikely.\n",
    "\n",
    "FYI, the sorting implemented in Python is *Timsort*, a hybrid of merge sort and insertion sort, designed to perform well on many kinds of real-world data.\n",
    "\n",
    "Below, I will demo easy implementations of bubble, insert, and merge sort."
   ]
  },
  {
   "cell_type": "code",
   "execution_count": 1,
   "metadata": {},
   "outputs": [],
   "source": [
    "from numpy.random import randint\n",
    "import time\n",
    "import matplotlib.pyplot as plt\n",
    "%matplotlib inline"
   ]
  },
  {
   "cell_type": "code",
   "execution_count": 5,
   "metadata": {},
   "outputs": [],
   "source": [
    "def insert_sort(array):\n",
    "    '''\n",
    "    go over all elements i in the array.\n",
    "    for each element i, look at all left neighbors j until you find a left neighbor that is smaller or the same.\n",
    "    each neighbor that you pass, move one index to the right    \n",
    "    '''\n",
    "    for i in range(1,len(array)):\n",
    "        value = array[i]\n",
    "        j = i \n",
    "        while j>0 and array[j-1]>value: \n",
    "            # if the left neighbor is bigger, then move it one to the right and continue\n",
    "            array[j]=array[j-1]\n",
    "            j-=1\n",
    "        array[j]=value # insert element i once the left neighbor is smaller.\n",
    "    return array\n",
    "\n",
    "def bubble_sort(array):\n",
    "    '''\n",
    "    permute pairs in the array, repeat until no more permutations needed.\n",
    "    '''\n",
    "    found_perm = True #boolean indicating if permutation was found in iteration\n",
    "    while found_perm:\n",
    "        found_perm = False\n",
    "        for i in range(len(array)-1):\n",
    "            val = array[i]\n",
    "            if array[i]>array[i+1]:\n",
    "                array[i] = array[i+1]\n",
    "                array[i+1] = val\n",
    "                found_perm = True\n",
    "    return array\n",
    "\n",
    "def merge(left, right):\n",
    "    '''\n",
    "    helper function needed for mergesort\n",
    "    merges two sorted arrays, left and right, into a single sorted array\n",
    "    '''    \n",
    "    if (len(left)==0 and len(right)==0):\n",
    "        return []\n",
    "    elif len(left)==0:\n",
    "        return right\n",
    "    elif len(right)==0:\n",
    "        return left\n",
    "    \n",
    "    merged = []\n",
    "    i=0\n",
    "    j=0\n",
    "    while len(merged)<(len(left) + len(right)):\n",
    "        if left[i]<right[j]:\n",
    "            merged.append(left[i])\n",
    "            i+=1\n",
    "        else:\n",
    "            merged.append(right[j])\n",
    "            j+=1\n",
    "        if i==len(left):\n",
    "            merged.extend(right[j:])\n",
    "        if j==len(right):\n",
    "            merged.extend(left[i:])\n",
    "    return merged\n",
    "\n",
    "def merge_sort(array):\n",
    "    '''\n",
    "    split the array into two halves recursively down to base case. \n",
    "    use merge function to merge sorted halves.\n",
    "    '''\n",
    "    if len(array)<=1:\n",
    "        return array\n",
    "    elif len(array)==2:\n",
    "        return array if array[0]<array[1] else array[::-1]\n",
    "    \n",
    "    mid = len(array)/2\n",
    "    left = merge_sort(array[:mid])\n",
    "    right = merge_sort(array[mid:])\n",
    "    \n",
    "    return merge(left,right)"
   ]
  },
  {
   "cell_type": "code",
   "execution_count": 26,
   "metadata": {},
   "outputs": [
    {
     "name": "stdout",
     "output_type": "stream",
     "text": [
      "[1, 2, 3, 4, 7, 8]\n",
      "[1, 2, 3, 4, 7, 8]\n",
      "[1, 2, 3, 4, 7, 8]\n"
     ]
    }
   ],
   "source": [
    "# it works!\n",
    "\n",
    "a = [4,7,2,8,3,1]\n",
    "print insert_sort(a)\n",
    "print merge_sort(a)\n",
    "print bubble_sort(a)"
   ]
  },
  {
   "cell_type": "code",
   "execution_count": 13,
   "metadata": {},
   "outputs": [],
   "source": [
    "# let's get some performance metrics\n",
    "\n",
    "times = {\"insert\":[], \"bubble\":[], \"merge\":[]}\n",
    "sizes = [10,50,100,250,500,750,1000]\n",
    "\n",
    "for size in sizes:\n",
    "    for method,sortfunc in zip([\"insert\",\"bubble\",\"merge\"],[insert_sort,bubble_sort,merge_sort]):\n",
    "        start = time.time()\n",
    "        sortfunc(randint(1,1000, size=size));\n",
    "        times[method].append(time.time()-start)"
   ]
  },
  {
   "cell_type": "code",
   "execution_count": 14,
   "metadata": {},
   "outputs": [
    {
     "data": {
      "text/plain": [
       "Text(0,0.5,'time [s]')"
      ]
     },
     "execution_count": 14,
     "metadata": {},
     "output_type": "execute_result"
    },
    {
     "data": {
      "image/png": "[encoded data removed]",
      "text/plain": [
       "<Figure size 432x288 with 1 Axes>"
      ]
     },
     "metadata": {
      "needs_background": "light"
     },
     "output_type": "display_data"
    }
   ],
   "source": [
    "# plot the perfomance metrics\n",
    "\n",
    "plt.figure()\n",
    "for method in [\"bubble\",\"insert\",\"merge\"]:\n",
    "    plt.plot(sizes,times[method],'o-', label=method)\n",
    "plt.legend()\n",
    "plt.xlabel(\"array size\")\n",
    "plt.ylabel(\"time [s]\")"
   ]
  },
  {
   "cell_type": "markdown",
   "metadata": {},
   "source": [
    "As you see in the plot above, bubble sort is really quite bad, because it typically has to iterate through the entire array a lot more times than insert sort. Merge sort is the most efficient algorithm."
   ]
  },
  {
   "cell_type": "code",
   "execution_count": null,
   "metadata": {},
   "outputs": [],
   "source": []
  }
 ],
 "metadata": {
  "kernelspec": {
   "display_name": "Python 2",
   "language": "python",
   "name": "python2"
  },
  "language_info": {
   "codemirror_mode": {
    "name": "ipython",
    "version": 2
   },
   "file_extension": ".py",
   "mimetype": "text/x-python",
   "name": "python",
   "nbconvert_exporter": "python",
   "pygments_lexer": "ipython2",
   "version": "2.7.15"
  }
 },
 "nbformat": 4,
 "nbformat_minor": 2
}
