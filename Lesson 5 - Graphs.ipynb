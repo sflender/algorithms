{
 "cells": [
  {
   "cell_type": "code",
   "execution_count": 24,
   "id": "1c8dea41-b247-40c9-9e44-7012ced2db06",
   "metadata": {},
   "outputs": [],
   "source": [
    "import matplotlib.pyplot as plt\n",
    "from collections import deque"
   ]
  },
  {
   "cell_type": "markdown",
   "id": "15b36347-a846-4432-a24b-d856936670fd",
   "metadata": {},
   "source": [
    "# Graphs\n",
    "\n",
    "Graphs can be represented with a Node class, similar to trees. In the example below we'll create a simple graph consiting of a Node with value 0, which is connected to 3 neighboring nodes with values 1,2,3"
   ]
  },
  {
   "cell_type": "code",
   "execution_count": 6,
   "id": "a2e495bf-d2fa-4fa6-8f09-09835a5bf4bd",
   "metadata": {},
   "outputs": [],
   "source": [
    "class Node():\n",
    "    def __init__(self, val=None, neighbors=[]):\n",
    "        self.val=val\n",
    "        self.neighbors=neighbors"
   ]
  },
  {
   "cell_type": "code",
   "execution_count": 7,
   "id": "f9c8325f-4a61-4817-916a-9f3fe920cfc1",
   "metadata": {},
   "outputs": [
    {
     "name": "stdout",
     "output_type": "stream",
     "text": [
      "1\n",
      "2\n",
      "3\n"
     ]
    }
   ],
   "source": [
    "node = Node(0, neighbors=[Node(1),Node(2),Node(3)])\n",
    "for n in node.neighbors:\n",
    "    print(n.val)"
   ]
  },
  {
   "cell_type": "markdown",
   "id": "ab4c3088-5ad0-4971-8b49-46bfad0e5543",
   "metadata": {},
   "source": [
    "## Adjacency lists\n",
    "However, the node data structure rarely the most practical one. A practical alternative are **adjacency lists** AL.\n",
    "\n",
    "For a graph consisting of N nodes, the AL is a list with N entries i=0..N-1, each of which is a list of node i's neighboring node indices.\n",
    "\n",
    "If we're given the number N of nodes and a list of edges in the graph, then it is straightforward to construct the AL."
   ]
  },
  {
   "cell_type": "code",
   "execution_count": 15,
   "id": "075922ad-81b0-4e74-9a86-57c716a2cab5",
   "metadata": {},
   "outputs": [],
   "source": [
    "def edges_to_al(n, edges):\n",
    "    al = [[] for _ in range(n)]\n",
    "    for (i,j) in edges:\n",
    "        al[i].append(j)\n",
    "        al[j].append(i) # because the graph is non-directional\n",
    "    return al"
   ]
  },
  {
   "cell_type": "code",
   "execution_count": 16,
   "id": "7392782b-64f1-477c-90bb-ff5902d23f7d",
   "metadata": {},
   "outputs": [
    {
     "data": {
      "text/plain": [
       "[[1, 2], [0], [0, 3], [2]]"
      ]
     },
     "execution_count": 16,
     "metadata": {},
     "output_type": "execute_result"
    }
   ],
   "source": [
    "edges_to_al(4,[[0,1],[0,2],[2,3]])"
   ]
  },
  {
   "cell_type": "markdown",
   "id": "e20233e4-7fd8-41cc-9fba-5971d0775c9f",
   "metadata": {},
   "source": [
    "## Ajacency matrix\n",
    "\n",
    "This is simply a matrix where entry i,j is 1 if node i is connected to node j, otherwise 0"
   ]
  },
  {
   "cell_type": "code",
   "execution_count": 22,
   "id": "28ce5777-4adf-4c68-9a67-42cec4f1ddcd",
   "metadata": {},
   "outputs": [],
   "source": [
    "def edges_to_matrix(n, edges):\n",
    "    matrix = [[0 for _ in range(n)] for _ in range(n)]\n",
    "    for (i,j) in edges:\n",
    "        matrix[i][j]=1\n",
    "        matrix[j][i]=1\n",
    "    return matrix"
   ]
  },
  {
   "cell_type": "code",
   "execution_count": 23,
   "id": "40c5381d-e680-4d5b-9cd2-55bcea0af32e",
   "metadata": {},
   "outputs": [
    {
     "data": {
      "text/plain": [
       "<matplotlib.image.AxesImage at 0x7f8ca9476f40>"
      ]
     },
     "execution_count": 23,
     "metadata": {},
     "output_type": "execute_result"
    },
    {
     "data": {
      "image/png": "[encoded data removed]",
      "text/plain": [
       "<Figure size 432x288 with 1 Axes>"
      ]
     },
     "metadata": {
      "needs_background": "light"
     },
     "output_type": "display_data"
    }
   ],
   "source": [
    "plt.imshow( edges_to_matrix(4,[[0,1],[0,2],[2,3]]) )"
   ]
  },
  {
   "cell_type": "markdown",
   "id": "72f7acd1-35e0-4afa-8e3c-24e282f2af0a",
   "metadata": {},
   "source": [
    "## Problem: check if graph is valid tree\n",
    "A graph is a tree if the following 2 conditions are met:\n",
    "\n",
    "(1) there are no \"islands\": by traversing through the graph we can reach every single node, and\n",
    "\n",
    "\n",
    "(2) there are no cycles. When traversing through the graph, we won't encounter the same node twice."
   ]
  },
  {
   "cell_type": "code",
   "execution_count": 59,
   "id": "d5bac089-cd52-4108-bed8-92956c266933",
   "metadata": {},
   "outputs": [],
   "source": [
    "def graph_is_valid_tree(num_nodes,edges):\n",
    "    '''\n",
    "    determines if the given graph specified by n (number of nodes) and edges is a tree\n",
    "    '''\n",
    "    \n",
    "    neighbors = edges_to_al(num_nodes,edges)  # neighbors[i] contains the list of neighbors for node i\n",
    "    \n",
    "    parent = {0:-1}  # record seen nodes here, in the form of node:parent\n",
    "    \n",
    "    Q = deque([0])  # start BFS at node 0\n",
    "    while Q:\n",
    "        node = Q.popleft()\n",
    "        for n in neighbors[node]:\n",
    "            if parent[node]==n:\n",
    "                # we've seen n before, but it's the trivial link\n",
    "                continue\n",
    "            if n in parent.keys():\n",
    "                # we've seen n before, and it's not the trivial link \n",
    "                return False\n",
    "            \n",
    "            parent[n]=node  # record that we've seen node n, as well as its neighbor\n",
    "            Q.append(n)  # add n  to the Q\n",
    "            \n",
    "    return len(parent)==num_nodes"
   ]
  },
  {
   "cell_type": "code",
   "execution_count": 60,
   "id": "f12c8a74-2250-497b-8490-1bb870ffb0c3",
   "metadata": {},
   "outputs": [
    {
     "data": {
      "text/plain": [
       "True"
      ]
     },
     "execution_count": 60,
     "metadata": {},
     "output_type": "execute_result"
    }
   ],
   "source": [
    "# [[0,1],[0,2],[0,3],[1,4]] --> True\n",
    "graph_is_valid_tree(5,[[0,1],[0,2],[0,3],[1,4]])"
   ]
  },
  {
   "cell_type": "code",
   "execution_count": 61,
   "id": "1cd44d44-e4a0-43a0-8074-a9444417e74c",
   "metadata": {},
   "outputs": [
    {
     "data": {
      "text/plain": [
       "False"
      ]
     },
     "execution_count": 61,
     "metadata": {},
     "output_type": "execute_result"
    }
   ],
   "source": [
    "# [[0,1],[1,2],[2,0]] --> False, because there's a cycle\n",
    "graph_is_valid_tree(4,[[0,1],[1,2],[2,0]])"
   ]
  },
  {
   "cell_type": "markdown",
   "id": "9b02dad0-aac2-4e2f-b8fe-62f1ab7ba7a5",
   "metadata": {},
   "source": [
    "## Problem: count the number of connected components in a graph"
   ]
  },
  {
   "cell_type": "code",
   "execution_count": 15,
   "id": "7380940f-cd45-4849-b6ba-4538ff52ac5a",
   "metadata": {},
   "outputs": [],
   "source": [
    "def count_num_ccs(edges, N):\n",
    "    '''\n",
    "    count the number of connected components in the graph determined by edges and N (the number of nodes)\n",
    "    \n",
    "    algoritm: \n",
    "    - create the adjacency list\n",
    "    - create a list seen=[False, False, ...], indicating if a node has been visited\n",
    "    - DFS starting from node 0. Each time we visit a node, we set its \"seen\" value to True\n",
    "    - repeat for all nodes i\n",
    "    '''\n",
    "    \n",
    "    # create adjacency list\n",
    "    adj = [[] for _ in range(N)]\n",
    "    for (a,b) in edges:\n",
    "        adj[a].append(b)\n",
    "        adj[b].append(a)\n",
    "    \n",
    "    seen = [False]*N\n",
    "    \n",
    "    def dfs(node):\n",
    "        for neighbor in adj[node]:\n",
    "            if not seen[neighbor]:\n",
    "                seen[neighbor]=True\n",
    "                dfs(neighbor)\n",
    "            \n",
    "    counter=0\n",
    "    for i in range(N):\n",
    "        if not seen[i]:\n",
    "            counter+=1\n",
    "            seen[i]=True\n",
    "            dfs(i)  # visit all of the neighbors and set them to True as well\n",
    "        \n",
    "    return counter"
   ]
  },
  {
   "cell_type": "code",
   "execution_count": 21,
   "id": "de7754dd-01e8-4352-94d0-940d56b4d440",
   "metadata": {},
   "outputs": [
    {
     "data": {
      "text/plain": [
       "2"
      ]
     },
     "execution_count": 21,
     "metadata": {},
     "output_type": "execute_result"
    }
   ],
   "source": [
    "count_num_ccs([[0,1],[1,2],[3,4]], 5)"
   ]
  },
  {
   "cell_type": "code",
   "execution_count": null,
   "id": "526129df-b781-47a4-bb12-c9054732f6d3",
   "metadata": {},
   "outputs": [],
   "source": []
  },
  {
   "cell_type": "code",
   "execution_count": null,
   "id": "655f8cc4-e888-495c-820f-00d10dd1db49",
   "metadata": {},
   "outputs": [],
   "source": []
  }
 ],
 "metadata": {
  "kernelspec": {
   "display_name": "Python 3 (ipykernel)",
   "language": "python",
   "name": "python3"
  },
  "language_info": {
   "codemirror_mode": {
    "name": "ipython",
    "version": 3
   },
   "file_extension": ".py",
   "mimetype": "text/x-python",
   "name": "python",
   "nbconvert_exporter": "python",
   "pygments_lexer": "ipython3",
   "version": "3.9.5"
  }
 },
 "nbformat": 4,
 "nbformat_minor": 5
}
