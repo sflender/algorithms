{
 "cells": [
  {
   "cell_type": "markdown",
   "metadata": {},
   "source": [
    "# Binary trees\n",
    "The tree datastructure can be considered an extension of the linked list: instead of one linked node, each node in a tree can have 0, 1, or 2 (a \"left\" and a \"right\") child nodes.\n",
    "\n",
    "A special case is the *binary search tree*, which has the special property that for each node, *all left descendants are smaller, and all right descendants are bigger*! By defition, a binary search tree allows one to search for an element in O(logN) time."
   ]
  },
  {
   "cell_type": "markdown",
   "metadata": {},
   "source": [
    "## Tree traversal algorithms\n",
    "Let's first review the 4 important tree traversal algorithms: BFS, DFS pre-order, DFS post-order, DFS in-order"
   ]
  },
  {
   "cell_type": "code",
   "execution_count": 1,
   "metadata": {},
   "outputs": [],
   "source": [
    "from collections import deque\n",
    "\n",
    "class Node:\n",
    "    def __init__(self, val):\n",
    "        self.l = None\n",
    "        self.r = None\n",
    "        self.v = val\n",
    "        \n",
    "def bfs(root):\n",
    "    # breath-first search --> go down all branches simultaneously\n",
    "    # important: use Queue datastructure!\n",
    "    Q = deque()\n",
    "    Q.append(root)\n",
    "    vals = []\n",
    "    while Q:\n",
    "        n = Q.popleft()\n",
    "        vals.append(n.v)\n",
    "        if n.l:\n",
    "            Q.append(n.l)\n",
    "        if n.r:\n",
    "            Q.append(n.r)\n",
    "    return vals\n",
    "\n",
    "def dfs_inorder(node):\n",
    "    if not node:\n",
    "        return []\n",
    "    return dfs_inorder(node.l) + [node.v] + dfs_inorder(node.r)\n",
    "\n",
    "def dfs_preorder(node):\n",
    "    if not node:\n",
    "        return []\n",
    "    return [node.v] + dfs_inorder(node.l) + dfs_inorder(node.r)\n",
    "\n",
    "def dfs_postorder(node):\n",
    "    if not node:\n",
    "        return []\n",
    "    return dfs_inorder(node.l) + dfs_inorder(node.r) + [node.v]\n",
    "\n",
    "def dfs_iterative(node):\n",
    "    # surprise! we can also implement DFS iteratively, by replacing the Q with a stack:\n",
    "    stack = [node]\n",
    "    vals = []\n",
    "    while stack:\n",
    "        n = stack.pop()\n",
    "        vals.append(n.v)\n",
    "        if n.l:\n",
    "            stack.append(n.l)\n",
    "        if n.r:\n",
    "            stack.append(n.r)\n",
    "    return vals  "
   ]
  },
  {
   "cell_type": "code",
   "execution_count": 2,
   "metadata": {},
   "outputs": [],
   "source": [
    "# construct a binary tree which looks like this:\n",
    "#       1\n",
    "#    2       3\n",
    "# 4    5    6 7\n",
    "\n",
    "N = Node(1)\n",
    "N.l = Node(2)\n",
    "N.r = Node(3)\n",
    "N.l.l = Node(4)\n",
    "N.l.r = Node(5)\n",
    "N.r.l = Node(6)\n",
    "N.r.r = Node(7)"
   ]
  },
  {
   "cell_type": "code",
   "execution_count": 3,
   "metadata": {},
   "outputs": [
    {
     "name": "stdout",
     "output_type": "stream",
     "text": [
      "DFS in-order  : [4, 2, 5, 1, 6, 3, 7]\n",
      "DFS post-order: [4, 2, 5, 6, 3, 7, 1]\n",
      "DFS pre-order : [1, 4, 2, 5, 6, 3, 7]\n",
      "DFS iterative : [1, 3, 7, 6, 2, 5, 4]\n",
      "BFS           : [1, 2, 3, 4, 5, 6, 7]\n"
     ]
    }
   ],
   "source": [
    "# now you can see the difference between DFS and BFS:\n",
    "print(\"DFS in-order  :\", dfs_inorder(N))\n",
    "print(\"DFS post-order:\", dfs_postorder(N))\n",
    "print(\"DFS pre-order :\", dfs_preorder(N))\n",
    "print(\"DFS iterative :\", dfs_iterative(N))\n",
    "print(\"BFS           :\", bfs(N))"
   ]
  },
  {
   "cell_type": "markdown",
   "metadata": {},
   "source": [
    "## Binary search tree\n",
    "\n",
    "In a BST, for any given node, all left children are smaller and all right children are bigger than that node. By definition then, if we traverse a BST in-order, we end up with a sorted array, as we see below."
   ]
  },
  {
   "cell_type": "code",
   "execution_count": 26,
   "metadata": {},
   "outputs": [],
   "source": [
    "# Consider this BST:\n",
    "#      5\n",
    "#    3    7\n",
    "#  2  4  6  8\n",
    "#\n",
    "# traversing this \"in order\" --> 2 3 4 5 6 7 8\n",
    "\n",
    "M = Node(5)\n",
    "M.l = Node(3)\n",
    "M.r = Node(7)\n",
    "M.l.l = Node(2)\n",
    "M.l.r = Node(4)\n",
    "M.r.l = Node(6)\n",
    "M.r.r = Node(8)"
   ]
  },
  {
   "cell_type": "code",
   "execution_count": 27,
   "metadata": {},
   "outputs": [
    {
     "data": {
      "text/plain": [
       "[2, 3, 4, 5, 6, 7, 8]"
      ]
     },
     "execution_count": 27,
     "metadata": {},
     "output_type": "execute_result"
    }
   ],
   "source": [
    "dfs_inorder(M)"
   ]
  },
  {
   "cell_type": "markdown",
   "metadata": {},
   "source": [
    "## Is same-tree and is sub-tree problems"
   ]
  },
  {
   "cell_type": "code",
   "execution_count": 2,
   "metadata": {},
   "outputs": [],
   "source": [
    "def same(n,m):\n",
    "    '''\n",
    "    returns True if n and m are the same tree\n",
    "    '''\n",
    "    \n",
    "    if not n and not m: \n",
    "        return True\n",
    "    if (n and not m) or (m and not n): \n",
    "        return False\n",
    "    if n.val!=m.val:\n",
    "        return False\n",
    "    return same(n.l,m.l) and same(n.r,m.r)"
   ]
  },
  {
   "cell_type": "code",
   "execution_count": 3,
   "metadata": {},
   "outputs": [],
   "source": [
    "def sub(n,m):\n",
    "    '''\n",
    "    returns True if m is a subtree of n\n",
    "    '''\n",
    "    \n",
    "    if same(n,m): return True\n",
    "    if not m: return True\n",
    "    if not n: return False\n",
    "    return sub(n.l,m) or sub(n.r,m) "
   ]
  },
  {
   "cell_type": "markdown",
   "metadata": {},
   "source": [
    "## Problem: find lowest common ancesctor in BST"
   ]
  },
  {
   "cell_type": "code",
   "execution_count": 15,
   "metadata": {},
   "outputs": [],
   "source": [
    "def lca(root,n,m):\n",
    "    if n.v>root.v and m.v>root.v:\n",
    "        # both are bigger, go to the right\n",
    "        return lca(root.r,n,m)\n",
    "\n",
    "    elif n.v<root.v and m.v<root.v:\n",
    "        # both are smaller, go to the left\n",
    "        return lca(root.l,n,m)\n",
    "\n",
    "    else:\n",
    "        # one is bigger, one is smaller - bingo!\n",
    "        return root.v"
   ]
  },
  {
   "cell_type": "code",
   "execution_count": 17,
   "metadata": {},
   "outputs": [],
   "source": [
    "# Consider this BST:\n",
    "#      5\n",
    "#    3    7\n",
    "#  2  4  6  8\n",
    "#\n",
    "# traversing this \"in order\" --> 2 3 4 5 6 7 8\n",
    "\n",
    "M = Node(5)\n",
    "M.l = Node(3)\n",
    "M.r = Node(7)\n",
    "M.l.l = Node(2)\n",
    "M.l.r = Node(4)\n",
    "M.r.l = Node(6)\n",
    "M.r.r = Node(8)"
   ]
  },
  {
   "cell_type": "code",
   "execution_count": 18,
   "metadata": {},
   "outputs": [
    {
     "data": {
      "text/plain": [
       "3"
      ]
     },
     "execution_count": 18,
     "metadata": {},
     "output_type": "execute_result"
    }
   ],
   "source": [
    "lca(M,Node(2),Node(4))"
   ]
  },
  {
   "cell_type": "code",
   "execution_count": 19,
   "metadata": {},
   "outputs": [
    {
     "data": {
      "text/plain": [
       "7"
      ]
     },
     "execution_count": 19,
     "metadata": {},
     "output_type": "execute_result"
    }
   ],
   "source": [
    "lca(M,Node(6),Node(8))"
   ]
  },
  {
   "cell_type": "code",
   "execution_count": null,
   "metadata": {},
   "outputs": [],
   "source": []
  }
 ],
 "metadata": {
  "kernelspec": {
   "display_name": "Python 3 (ipykernel)",
   "language": "python",
   "name": "python3"
  },
  "language_info": {
   "codemirror_mode": {
    "name": "ipython",
    "version": 3
   },
   "file_extension": ".py",
   "mimetype": "text/x-python",
   "name": "python",
   "nbconvert_exporter": "python",
   "pygments_lexer": "ipython3",
   "version": "3.9.5"
  }
 },
 "nbformat": 4,
 "nbformat_minor": 4
}
