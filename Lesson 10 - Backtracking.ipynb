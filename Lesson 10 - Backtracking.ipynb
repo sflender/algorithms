{
 "cells": [
  {
   "cell_type": "markdown",
   "id": "62de9aad-c783-456a-85ff-8c5146c6f524",
   "metadata": {},
   "source": [
    "# Backtracking\n",
    "\n",
    "Backtracking means that we explore each possible path until we learned enough about the path so that we can either end our search or move to the next path. Backtracking is typically used in combination with BFS or DFS: for each possible starting point, run BFS/DFS until some end criterion is met. Let's look at some examples."
   ]
  },
  {
   "cell_type": "markdown",
   "id": "1ddbaae4-0c47-47fc-b0b1-8094e30f6374",
   "metadata": {},
   "source": [
    "## Problem: word grid\n",
    "\n",
    "https://leetcode.com/problems/word-search/\n",
    "\n",
    "Given a word grid (cross-word puzzle) and a word, determine if the word is included in the grid.\n",
    "\n",
    "Solution:\n",
    "- loop through each point in the grid\n",
    "- at each point call a function backtrack() which returns True if the word is here\n",
    "- in the end return False."
   ]
  },
  {
   "cell_type": "code",
   "execution_count": 12,
   "id": "5fd62727-25e9-4889-9efd-e8e09ee4edbc",
   "metadata": {},
   "outputs": [],
   "source": [
    "\n",
    "def wordgrid(grid,word):\n",
    "    \n",
    "        num_rows = len(grid)\n",
    "        num_cols = len(grid[0])\n",
    "\n",
    "        def backtrack(row,col,word):\n",
    "            if word=='':\n",
    "                # base case\n",
    "                return True\n",
    "            \n",
    "            if not (0<=row<num_rows and 0<=col<num_cols):\n",
    "                # the word is non-empty, and we're outside the grid boundary\n",
    "                return False\n",
    "\n",
    "            if grid[row][col] == word[0]:\n",
    "                grid[row][col] = '#'  # prevent re-using the same character\n",
    "                for x,y in [(0,1),(0,-1),(1,0),(-1,0)]:  # right, left, down, up\n",
    "                     if backtrack(row+x,col+y,word[1:]):\n",
    "                        return True\n",
    "                grid[row][col] = word[0]  # re-insert the character we replaced earlier\n",
    "\n",
    "        # main code is just these 4 lines!\n",
    "        for row in range(num_rows):\n",
    "            for col in range(num_cols):\n",
    "                if backtrack(row,col,word):\n",
    "                    return True\n",
    "        return False"
   ]
  },
  {
   "cell_type": "code",
   "execution_count": 13,
   "id": "db8828f5-6f06-459f-a1c0-ef01211895d3",
   "metadata": {},
   "outputs": [
    {
     "data": {
      "text/plain": [
       "True"
      ]
     },
     "execution_count": 13,
     "metadata": {},
     "output_type": "execute_result"
    }
   ],
   "source": [
    "wordgrid( [[\"A\",\"B\",\"C\",\"E\"],[\"S\",\"F\",\"C\",\"S\"],[\"A\",\"D\",\"E\",\"E\"]], 'ABCCED' )"
   ]
  },
  {
   "cell_type": "markdown",
   "id": "209d44e9-c842-48db-b64e-e25ad399bb9f",
   "metadata": {},
   "source": [
    "## Problem: course schedule\n",
    "Given a list of course requirements, determine whether the courses can be completed or not.\n",
    "\n",
    "Example: [1,0],[2,1],[3,2] --> True (take course 0,1,2,3 in that order) \\\n",
    "[1,0],[2,1],[0,2] --> False\n",
    "\n",
    "The problem boils down to finding a cycle in the graph. We can use backtracking: \n",
    "- start at one node, and traverse the graph. \n",
    "- If we see the same node twice, return False. \n",
    "- in the end, return True"
   ]
  },
  {
   "cell_type": "code",
   "execution_count": 4,
   "id": "7ace259f-c098-4d1b-91bc-b851d2fed91e",
   "metadata": {},
   "outputs": [],
   "source": [
    "from collections import deque\n",
    "\n",
    "def canFinish(numCourses, prerequisites) -> bool:\n",
    "\n",
    "    '''\n",
    "    solution approach:\n",
    "    1. create the adjacency list from given edges\n",
    "    2. for each node, traverse graph starting at this node (BFS/DFS); \n",
    "        if we detect a loop, return False\n",
    "    3. return True\n",
    "    '''\n",
    "\n",
    "    # create adjacency list\n",
    "    graph = [[] for _ in range(numCourses)]\n",
    "    for a,b in prerequisites:\n",
    "        graph[a].append(b)\n",
    "        #graph[b].append(a)  # no, because graph is directional!\n",
    "\n",
    "    for n in range(0,numCourses):\n",
    "        Q = deque(graph[n])\n",
    "        visited = set()\n",
    "        while Q:\n",
    "            m = Q.popleft()  # --> BFS\n",
    "            #m = Q.pop()     # --> DFS\n",
    "            if m==n:\n",
    "                # we detected a loop\n",
    "                return False\n",
    "            visited.add(m)  # this is just for optimization, not strictly needed\n",
    "            for neighbor in graph[m]:\n",
    "                if neighbor not in visited:\n",
    "                    Q.append(neighbor)\n",
    "\n",
    "    return True"
   ]
  },
  {
   "cell_type": "code",
   "execution_count": 15,
   "id": "2b2cc223-de92-4dd6-a394-dba906cac968",
   "metadata": {},
   "outputs": [
    {
     "data": {
      "text/plain": [
       "True"
      ]
     },
     "execution_count": 15,
     "metadata": {},
     "output_type": "execute_result"
    }
   ],
   "source": [
    "canFinish(4, [[1,0],[2,1],[3,2]])"
   ]
  },
  {
   "cell_type": "code",
   "execution_count": 22,
   "id": "217e1d58-c886-4918-828d-03b8c3126961",
   "metadata": {},
   "outputs": [
    {
     "data": {
      "text/plain": [
       "False"
      ]
     },
     "execution_count": 22,
     "metadata": {},
     "output_type": "execute_result"
    }
   ],
   "source": [
    "canFinish(4, [[1,0],[2,1],[3,2],[0,3]] )"
   ]
  },
  {
   "cell_type": "code",
   "execution_count": 29,
   "id": "e63bc76d-ae9b-4d26-933d-a230f353f48c",
   "metadata": {},
   "outputs": [],
   "source": [
    "def course_schedule(reqs, N):\n",
    "    graph = [[] for _ in range(N)]\n",
    "    for a,b in reqs:\n",
    "        graph[a].append(b)\n",
    "\n",
    "    visited = [False]*N\n",
    "\n",
    "    def backtrack(i):\n",
    "        Q = deque([i])\n",
    "        while Q:\n",
    "            n = Q.popleft()\n",
    "            if visited[n]:\n",
    "                return False\n",
    "            visited[n]=True\n",
    "            for neighbor in graph[n]:\n",
    "                Q.append(neighbor)\n",
    "    \n",
    "    for i in range(N):\n",
    "        if backtrack(i)==False:\n",
    "            return False\n",
    "\n",
    "    return True"
   ]
  },
  {
   "cell_type": "code",
   "execution_count": 30,
   "id": "66a02001-629a-4425-9a57-3089965c47aa",
   "metadata": {},
   "outputs": [
    {
     "data": {
      "text/plain": [
       "False"
      ]
     },
     "execution_count": 30,
     "metadata": {},
     "output_type": "execute_result"
    }
   ],
   "source": [
    "course_schedule([[1,0],[2,1],[3,2]],4)"
   ]
  },
  {
   "cell_type": "code",
   "execution_count": 31,
   "id": "7330b3f6-46e6-4fa9-9ac9-9a56a3e8b5e4",
   "metadata": {},
   "outputs": [
    {
     "data": {
      "text/plain": [
       "False"
      ]
     },
     "execution_count": 31,
     "metadata": {},
     "output_type": "execute_result"
    }
   ],
   "source": [
    "course_schedule([[1,0],[2,1],[3,2],[0,3]],4 )"
   ]
  },
  {
   "cell_type": "code",
   "execution_count": null,
   "id": "306dc0f4-4644-4dab-9f42-2f49a677be01",
   "metadata": {},
   "outputs": [],
   "source": []
  }
 ],
 "metadata": {
  "kernelspec": {
   "display_name": "Python 3 (ipykernel)",
   "language": "python",
   "name": "python3"
  },
  "language_info": {
   "codemirror_mode": {
    "name": "ipython",
    "version": 3
   },
   "file_extension": ".py",
   "mimetype": "text/x-python",
   "name": "python",
   "nbconvert_exporter": "python",
   "pygments_lexer": "ipython3",
   "version": "3.9.5"
  }
 },
 "nbformat": 4,
 "nbformat_minor": 5
}
